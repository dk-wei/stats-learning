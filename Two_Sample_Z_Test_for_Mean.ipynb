{
  "nbformat": 4,
  "nbformat_minor": 0,
  "metadata": {
    "colab": {
      "name": "Two Sample Z Test for Mean.ipynb",
      "provenance": []
    },
    "kernelspec": {
      "name": "python3",
      "display_name": "Python 3"
    },
    "language_info": {
      "name": "python"
    }
  },
  "cells": [
    {
      "cell_type": "code",
      "metadata": {
        "id": "-xJfXKWF7x0Z"
      },
      "source": [
        "from scipy import stats\n",
        "import numpy as np\n",
        "import numpy as np\n",
        "import seaborn as sns\n",
        "\n",
        "A = np.array([ 1, 4, 2, 3, 5, 5, 5, 7, 8, 9,10,18])\n",
        "B = np.array([ 1, 2, 5, 6, 8, 10, 13, 14, 17, 20,13,8])"
      ],
      "execution_count": 2,
      "outputs": []
    },
    {
      "cell_type": "code",
      "metadata": {
        "colab": {
          "base_uri": "https://localhost:8080/"
        },
        "id": "QT8sPv1bBgOd",
        "outputId": "1f241a7f-6501-44e6-9955-2a1f6fb3454d"
      },
      "source": [
        "print('Mean of Strategy A is：',np.mean(A))\n",
        "print('Mean of Strategy B is：',np.mean(B))"
      ],
      "execution_count": 3,
      "outputs": [
        {
          "output_type": "stream",
          "name": "stdout",
          "text": [
            "Mean of Strategy A is： 6.416666666666667\n",
            "Mean of Strategy B is： 9.75\n"
          ]
        }
      ]
    },
    {
      "cell_type": "code",
      "metadata": {
        "colab": {
          "base_uri": "https://localhost:8080/"
        },
        "id": "6JfqxEkCBgL1",
        "outputId": "a2359122-5aae-4464-a6ca-7285e3470c8d"
      },
      "source": [
        "import scipy.stats\n",
        "t, pval = scipy.stats.ttest_ind(B,A)  #表示B-A\n",
        "print(t,pval)"
      ],
      "execution_count": 4,
      "outputs": [
        {
          "output_type": "stream",
          "name": "stdout",
          "text": [
            "1.556783470104261 0.13379164919826217\n"
          ]
        }
      ]
    },
    {
      "cell_type": "code",
      "metadata": {
        "id": "BYelndgzBgJB"
      },
      "source": [
        ""
      ],
      "execution_count": null,
      "outputs": []
    },
    {
      "cell_type": "code",
      "metadata": {
        "id": "aa2-MWgBBgHB"
      },
      "source": [
        ""
      ],
      "execution_count": null,
      "outputs": []
    },
    {
      "cell_type": "code",
      "metadata": {
        "id": "rnr0DIhgBgFn"
      },
      "source": [
        ""
      ],
      "execution_count": null,
      "outputs": []
    },
    {
      "cell_type": "code",
      "metadata": {
        "id": "i6XDanKnBgAi"
      },
      "source": [
        ""
      ],
      "execution_count": null,
      "outputs": []
    },
    {
      "cell_type": "code",
      "metadata": {
        "id": "cJ2DUipYBXoE"
      },
      "source": [
        ""
      ],
      "execution_count": null,
      "outputs": []
    }
  ]
}